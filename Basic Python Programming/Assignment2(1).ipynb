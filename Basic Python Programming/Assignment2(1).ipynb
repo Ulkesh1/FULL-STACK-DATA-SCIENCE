{
 "cells": [
  {
   "cell_type": "markdown",
   "id": "09f38935",
   "metadata": {},
   "source": [
    "# 1. Write a Python program to convert kilometers to miles?"
   ]
  },
  {
   "cell_type": "code",
   "execution_count": 1,
   "id": "f435d6d3",
   "metadata": {},
   "outputs": [],
   "source": [
    "def kmtomiles():\n",
    "    km=float(input(\"Enter kilometer:\"))\n",
    "    miles=km*0.621\n",
    "    print(f\"Miles = {miles}\")"
   ]
  },
  {
   "cell_type": "code",
   "execution_count": 2,
   "id": "74f585e5",
   "metadata": {},
   "outputs": [
    {
     "name": "stdout",
     "output_type": "stream",
     "text": [
      "Enter kilometer:5\n",
      "Miles = 3.105\n"
     ]
    }
   ],
   "source": [
    "kmtomiles()"
   ]
  },
  {
   "cell_type": "markdown",
   "id": "3c5fd4c3",
   "metadata": {},
   "source": [
    "# 2. Write a Python program to convert Celsius to Fahrenheit?"
   ]
  },
  {
   "cell_type": "code",
   "execution_count": 3,
   "id": "1af1ab0a",
   "metadata": {},
   "outputs": [],
   "source": [
    "def celtofah(c):\n",
    "    f = (c*1.8)+32\n",
    "    print(f\"{c} Celsius = {f} Fahrenheit\")\n",
    "    "
   ]
  },
  {
   "cell_type": "code",
   "execution_count": 4,
   "id": "ef45b6e5",
   "metadata": {},
   "outputs": [
    {
     "name": "stdout",
     "output_type": "stream",
     "text": [
      "27 Celsius = 80.6 Fahrenheit\n"
     ]
    }
   ],
   "source": [
    "celtofah(27)"
   ]
  },
  {
   "cell_type": "markdown",
   "id": "5f6987cb",
   "metadata": {},
   "source": [
    "# 3. Write a Python program to display calendar?"
   ]
  },
  {
   "cell_type": "code",
   "execution_count": 5,
   "id": "af24232a",
   "metadata": {},
   "outputs": [
    {
     "name": "stdout",
     "output_type": "stream",
     "text": [
      "Enter the year:iewf\n",
      "Enter valid year\n",
      "Enter the year:2022\n",
      "                                  2022\n",
      "\n",
      "      January                   February                   March\n",
      "Mo Tu We Th Fr Sa Su      Mo Tu We Th Fr Sa Su      Mo Tu We Th Fr Sa Su\n",
      "                1  2          1  2  3  4  5  6          1  2  3  4  5  6\n",
      " 3  4  5  6  7  8  9       7  8  9 10 11 12 13       7  8  9 10 11 12 13\n",
      "10 11 12 13 14 15 16      14 15 16 17 18 19 20      14 15 16 17 18 19 20\n",
      "17 18 19 20 21 22 23      21 22 23 24 25 26 27      21 22 23 24 25 26 27\n",
      "24 25 26 27 28 29 30      28                        28 29 30 31\n",
      "31\n",
      "\n",
      "       April                      May                       June\n",
      "Mo Tu We Th Fr Sa Su      Mo Tu We Th Fr Sa Su      Mo Tu We Th Fr Sa Su\n",
      "             1  2  3                         1             1  2  3  4  5\n",
      " 4  5  6  7  8  9 10       2  3  4  5  6  7  8       6  7  8  9 10 11 12\n",
      "11 12 13 14 15 16 17       9 10 11 12 13 14 15      13 14 15 16 17 18 19\n",
      "18 19 20 21 22 23 24      16 17 18 19 20 21 22      20 21 22 23 24 25 26\n",
      "25 26 27 28 29 30         23 24 25 26 27 28 29      27 28 29 30\n",
      "                          30 31\n",
      "\n",
      "        July                     August                  September\n",
      "Mo Tu We Th Fr Sa Su      Mo Tu We Th Fr Sa Su      Mo Tu We Th Fr Sa Su\n",
      "             1  2  3       1  2  3  4  5  6  7                1  2  3  4\n",
      " 4  5  6  7  8  9 10       8  9 10 11 12 13 14       5  6  7  8  9 10 11\n",
      "11 12 13 14 15 16 17      15 16 17 18 19 20 21      12 13 14 15 16 17 18\n",
      "18 19 20 21 22 23 24      22 23 24 25 26 27 28      19 20 21 22 23 24 25\n",
      "25 26 27 28 29 30 31      29 30 31                  26 27 28 29 30\n",
      "\n",
      "      October                   November                  December\n",
      "Mo Tu We Th Fr Sa Su      Mo Tu We Th Fr Sa Su      Mo Tu We Th Fr Sa Su\n",
      "                1  2          1  2  3  4  5  6                1  2  3  4\n",
      " 3  4  5  6  7  8  9       7  8  9 10 11 12 13       5  6  7  8  9 10 11\n",
      "10 11 12 13 14 15 16      14 15 16 17 18 19 20      12 13 14 15 16 17 18\n",
      "17 18 19 20 21 22 23      21 22 23 24 25 26 27      19 20 21 22 23 24 25\n",
      "24 25 26 27 28 29 30      28 29 30                  26 27 28 29 30 31\n",
      "31\n",
      "\n"
     ]
    }
   ],
   "source": [
    "import calendar\n",
    "def cal():\n",
    "    try:\n",
    "        yy = int(input(\"Enter the year:\"))\n",
    "    except:\n",
    "        print(\"Enter valid year\")\n",
    "        cal()\n",
    "    else:\n",
    "        print(calendar.calendar(yy))\n",
    "cal()"
   ]
  },
  {
   "cell_type": "markdown",
   "id": "fdfd4aa7",
   "metadata": {},
   "source": [
    "# 4. Write a Python program to solve quadratic equation?"
   ]
  },
  {
   "cell_type": "code",
   "execution_count": 6,
   "id": "67d7fce9",
   "metadata": {},
   "outputs": [
    {
     "name": "stdout",
     "output_type": "stream",
     "text": [
      "Enter values of equation ax^2 + bx + c\n",
      "a = 5\n",
      "b =6\n",
      "c =1\n",
      "Solutions are (-0.2+0j) and (-1+0j)\n"
     ]
    }
   ],
   "source": [
    "import cmath\n",
    "print(\"Enter values of equation ax^2 + bx + c\")\n",
    "a=float(input(\"a = \"))\n",
    "b=float(input(\"b =\"))\n",
    "c=float(input(\"c =\"))\n",
    "d = (b**2) - (4*a*c)\n",
    "sol1=(-b+cmath.sqrt(d))/(2*a)\n",
    "sol2=(-b-cmath.sqrt(d))/(2*a)\n",
    "print(f\"Solutions are {sol1} and {sol2}\")"
   ]
  },
  {
   "cell_type": "markdown",
   "id": "b7315446",
   "metadata": {},
   "source": [
    "# 5. Write a Python program to swap two variables without temp variable?"
   ]
  },
  {
   "cell_type": "code",
   "execution_count": 7,
   "id": "8c17b2b1",
   "metadata": {},
   "outputs": [],
   "source": [
    "def swap(a,b):\n",
    "    print(f\"Values before swapping are x={a}, y={b}\")\n",
    "    a,b=b,a\n",
    "    print(f\"Values after swapping are x={a},y={b}\")\n",
    "    "
   ]
  },
  {
   "cell_type": "code",
   "execution_count": 8,
   "id": "4286c671",
   "metadata": {},
   "outputs": [
    {
     "name": "stdout",
     "output_type": "stream",
     "text": [
      "Values before swapping are x=hello, y=5\n",
      "Values after swapping are x=5,y=hello\n"
     ]
    }
   ],
   "source": [
    "swap(\"hello\",5)"
   ]
  }
 ],
 "metadata": {
  "kernelspec": {
   "display_name": "Python 3 (ipykernel)",
   "language": "python",
   "name": "python3"
  },
  "language_info": {
   "codemirror_mode": {
    "name": "ipython",
    "version": 3
   },
   "file_extension": ".py",
   "mimetype": "text/x-python",
   "name": "python",
   "nbconvert_exporter": "python",
   "pygments_lexer": "ipython3",
   "version": "3.9.7"
  }
 },
 "nbformat": 4,
 "nbformat_minor": 5
}
