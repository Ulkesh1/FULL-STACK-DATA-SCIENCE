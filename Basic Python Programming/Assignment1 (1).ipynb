{
 "cells": [
  {
   "cell_type": "markdown",
   "id": "c8336de6",
   "metadata": {},
   "source": [
    "# 1. Write a Python program to print &quot;Hello Python&quot;?"
   ]
  },
  {
   "cell_type": "code",
   "execution_count": 1,
   "id": "b1dbd572",
   "metadata": {},
   "outputs": [
    {
     "name": "stdout",
     "output_type": "stream",
     "text": [
      "Hello Python\n"
     ]
    }
   ],
   "source": [
    "print(\"Hello Python\")"
   ]
  },
  {
   "cell_type": "markdown",
   "id": "907b8436",
   "metadata": {},
   "source": [
    "# 2. Write a Python program to do arithmetical operations addition and division.?"
   ]
  },
  {
   "cell_type": "code",
   "execution_count": 2,
   "id": "611522d7",
   "metadata": {},
   "outputs": [
    {
     "name": "stdout",
     "output_type": "stream",
     "text": [
      "10\n",
      "20\n",
      "Addition  30\n",
      "Divison  0.5\n"
     ]
    }
   ],
   "source": [
    "a = int(input())\n",
    "b = int(input())\n",
    "print(\"Addition \", (a+b))\n",
    "print(\"Divison \",(a/b))"
   ]
  },
  {
   "cell_type": "markdown",
   "id": "4d47924d",
   "metadata": {},
   "source": [
    "# 3. Write a Python program to find the area of a triangle?"
   ]
  },
  {
   "cell_type": "code",
   "execution_count": 3,
   "id": "1ed3a012",
   "metadata": {},
   "outputs": [],
   "source": [
    "def Atriangle(H,B):\n",
    "    H=int(input(\"Enter height of the triangle\"))\n",
    "    B=int(input(\"Enter base of the triangle\"))\n",
    "    area = (1/2)*H*B\n",
    "    return 'Area of the triangle is',area"
   ]
  },
  {
   "cell_type": "code",
   "execution_count": 4,
   "id": "585c9448",
   "metadata": {},
   "outputs": [
    {
     "name": "stdout",
     "output_type": "stream",
     "text": [
      "Enter height of the triangle10\n",
      "Enter base of the triangle20\n"
     ]
    },
    {
     "data": {
      "text/plain": [
       "('Area of the triangle is', 100.0)"
      ]
     },
     "execution_count": 4,
     "metadata": {},
     "output_type": "execute_result"
    }
   ],
   "source": [
    "Atriangle(10,20)"
   ]
  },
  {
   "cell_type": "markdown",
   "id": "288ccb62",
   "metadata": {},
   "source": [
    "# 4. Write a Python program to swap two variables?"
   ]
  },
  {
   "cell_type": "code",
   "execution_count": 5,
   "id": "1f014dad",
   "metadata": {},
   "outputs": [],
   "source": [
    "def swap(a,b):\n",
    "    i=a\n",
    "    a=b\n",
    "    b=i\n",
    "    return print(f\"Values before swapping a = {b} b = {a}\\nValues after swapping a = {a} b = {b}\") \n",
    "    "
   ]
  },
  {
   "cell_type": "code",
   "execution_count": 6,
   "id": "5a6a7e0f",
   "metadata": {},
   "outputs": [
    {
     "name": "stdout",
     "output_type": "stream",
     "text": [
      "Values before swapping a = 10 b = 20\n",
      "Values after swapping a = 20 b = 10\n"
     ]
    }
   ],
   "source": [
    "swap(10,20)"
   ]
  },
  {
   "cell_type": "markdown",
   "id": "98b9ecc8",
   "metadata": {},
   "source": [
    "# 5. Write a Python program to generate a random number?"
   ]
  },
  {
   "cell_type": "code",
   "execution_count": 7,
   "id": "ed5b5ef1",
   "metadata": {},
   "outputs": [],
   "source": [
    "import numpy as np\n"
   ]
  },
  {
   "cell_type": "code",
   "execution_count": 8,
   "id": "1425897b",
   "metadata": {},
   "outputs": [
    {
     "data": {
      "text/plain": [
       "42"
      ]
     },
     "execution_count": 8,
     "metadata": {},
     "output_type": "execute_result"
    }
   ],
   "source": [
    "np.random.randint(100)"
   ]
  }
 ],
 "metadata": {
  "kernelspec": {
   "display_name": "Python 3 (ipykernel)",
   "language": "python",
   "name": "python3"
  },
  "language_info": {
   "codemirror_mode": {
    "name": "ipython",
    "version": 3
   },
   "file_extension": ".py",
   "mimetype": "text/x-python",
   "name": "python",
   "nbconvert_exporter": "python",
   "pygments_lexer": "ipython3",
   "version": "3.9.7"
  }
 },
 "nbformat": 4,
 "nbformat_minor": 5
}
