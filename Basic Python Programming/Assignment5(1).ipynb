{
 "cells": [
  {
   "cell_type": "markdown",
   "id": "8f45a88f",
   "metadata": {},
   "source": [
    "# 1. Write a Python Program to Find LCM?"
   ]
  },
  {
   "cell_type": "code",
   "execution_count": 1,
   "id": "d6831586",
   "metadata": {},
   "outputs": [],
   "source": [
    "def lcm(x,y):\n",
    "    g=x      \n",
    "    while True:\n",
    "        if(g%x==0) & (g%y==0):\n",
    "            lcm=g\n",
    "            break\n",
    "        g=g+1\n",
    "    return lcm"
   ]
  },
  {
   "cell_type": "code",
   "execution_count": 2,
   "id": "92ce0073",
   "metadata": {},
   "outputs": [
    {
     "data": {
      "text/plain": [
       "20"
      ]
     },
     "execution_count": 2,
     "metadata": {},
     "output_type": "execute_result"
    }
   ],
   "source": [
    "lcm(5,4)"
   ]
  },
  {
   "cell_type": "markdown",
   "id": "086c1cad",
   "metadata": {},
   "source": [
    "# 2. Write a Python Program to Find HCF?"
   ]
  },
  {
   "cell_type": "code",
   "execution_count": 3,
   "id": "e47764eb",
   "metadata": {},
   "outputs": [],
   "source": [
    "def hcf(x,y):\n",
    "    if x<y:\n",
    "        small=x\n",
    "    else:\n",
    "        small=y\n",
    "    for i in range(1,small+1):\n",
    "        if (x%i==0) & (y%i==0):\n",
    "            hcf=i\n",
    "    return hcf"
   ]
  },
  {
   "cell_type": "code",
   "execution_count": 4,
   "id": "b8e4f663",
   "metadata": {},
   "outputs": [
    {
     "data": {
      "text/plain": [
       "6"
      ]
     },
     "execution_count": 4,
     "metadata": {},
     "output_type": "execute_result"
    }
   ],
   "source": [
    "hcf(54,24)"
   ]
  },
  {
   "cell_type": "markdown",
   "id": "a8b9cf26",
   "metadata": {},
   "source": [
    "# 3. Write a Python Program to Convert Decimal to Binary, Octal and Hexadecimal?"
   ]
  },
  {
   "cell_type": "code",
   "execution_count": 5,
   "id": "462e14a0",
   "metadata": {},
   "outputs": [
    {
     "name": "stdout",
     "output_type": "stream",
     "text": [
      "Enter a Number: 5\n",
      "Binary Number of 5 is 0b101\n",
      "Octal Number of 5 is 0o5\n",
      "Hexadecimal Number of 5 is 0x5\n"
     ]
    }
   ],
   "source": [
    "def DecimaltoBOH():\n",
    "    num = int(input('Enter a Number: '))\n",
    "    print(f'Binary Number of {num} is {bin(num)}')\n",
    "    print(f'Octal Number of {num} is {oct(num)}')    \n",
    "    print(f'Hexadecimal Number of {num} is {hex(num)}')    \n",
    "\n",
    "DecimaltoBOH()"
   ]
  },
  {
   "cell_type": "markdown",
   "id": "2adc5c92",
   "metadata": {},
   "source": [
    "# 4. Write a Python Program To Find ASCII value of a character?"
   ]
  },
  {
   "cell_type": "code",
   "execution_count": 6,
   "id": "7e4e650e",
   "metadata": {},
   "outputs": [
    {
     "name": "stdout",
     "output_type": "stream",
     "text": [
      "Enter a character A\n"
     ]
    }
   ],
   "source": [
    "a=input(\"Enter a character \")"
   ]
  },
  {
   "cell_type": "code",
   "execution_count": 7,
   "id": "9544c516",
   "metadata": {},
   "outputs": [
    {
     "name": "stdout",
     "output_type": "stream",
     "text": [
      "The ASCII value of A is  65\n"
     ]
    }
   ],
   "source": [
    "print(f\"The ASCII value of {a} is \",ord(a))"
   ]
  },
  {
   "cell_type": "markdown",
   "id": "662deb31",
   "metadata": {},
   "source": [
    "# 5. Write a Python Program to Make a Simple Calculator with 4 basic mathematical operations?"
   ]
  },
  {
   "cell_type": "code",
   "execution_count": 8,
   "id": "b3f3f72c",
   "metadata": {},
   "outputs": [
    {
     "name": "stdout",
     "output_type": "stream",
     "text": [
      "X 5\n",
      "Y 4\n",
      "select operator add,sub,mul,div mul\n",
      "The multiplication is:  20\n"
     ]
    }
   ],
   "source": [
    "def add(x,y):\n",
    "    return x+y\n",
    "def sub(x,y):\n",
    "    if x>y:\n",
    "        return x-y\n",
    "    else:\n",
    "        return y-x\n",
    "def mul(x,y):\n",
    "    return x*y\n",
    "def div(x,y):\n",
    "    while y!=0:\n",
    "        return x/y\n",
    "x=int(input(\"X \"))\n",
    "y=int(input(\"Y \"))\n",
    "o=input(\"select operator add,sub,mul,div \")\n",
    "if o=='add':\n",
    "    print(\"The sum is: \",add(x,y))\n",
    "elif o=='sub':\n",
    "    print(\"The subtraction is: \",sub(x,y))\n",
    "elif o=='mul':\n",
    "    print(\"The multiplication is: \",mul(x,y))\n",
    "elif o=='div':\n",
    "    print(\"The division is: \",div(x,y))\n",
    "else:\n",
    "    print(\"Please enter valid operator\")"
   ]
  },
  {
   "cell_type": "code",
   "execution_count": null,
   "id": "2cab4742",
   "metadata": {},
   "outputs": [],
   "source": []
  }
 ],
 "metadata": {
  "kernelspec": {
   "display_name": "Python 3 (ipykernel)",
   "language": "python",
   "name": "python3"
  },
  "language_info": {
   "codemirror_mode": {
    "name": "ipython",
    "version": 3
   },
   "file_extension": ".py",
   "mimetype": "text/x-python",
   "name": "python",
   "nbconvert_exporter": "python",
   "pygments_lexer": "ipython3",
   "version": "3.9.7"
  }
 },
 "nbformat": 4,
 "nbformat_minor": 5
}
