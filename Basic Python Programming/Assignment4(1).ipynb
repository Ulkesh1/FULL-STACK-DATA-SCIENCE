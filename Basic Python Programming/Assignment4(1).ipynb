{
 "cells": [
  {
   "cell_type": "markdown",
   "id": "d45b76e6",
   "metadata": {},
   "source": [
    "# 1. Write a Python Program to Find the Factorial of a Number?"
   ]
  },
  {
   "cell_type": "code",
   "execution_count": 1,
   "id": "35a08bb5",
   "metadata": {},
   "outputs": [],
   "source": [
    "def fact(num):\n",
    "    fact=1\n",
    "    for i in range(1,num+1):\n",
    "        fact=fact*i\n",
    "    print(f\"{num}! = {fact}\")"
   ]
  },
  {
   "cell_type": "code",
   "execution_count": 2,
   "id": "f31a177c",
   "metadata": {},
   "outputs": [
    {
     "name": "stdout",
     "output_type": "stream",
     "text": [
      "6! = 720\n"
     ]
    }
   ],
   "source": [
    "fact(6)"
   ]
  },
  {
   "cell_type": "markdown",
   "id": "b93c2933",
   "metadata": {},
   "source": [
    "# 2. Write a Python Program to Display the multiplication Table?"
   ]
  },
  {
   "cell_type": "code",
   "execution_count": 3,
   "id": "c3f1b1cf",
   "metadata": {},
   "outputs": [],
   "source": [
    "def multitable(num):\n",
    "    for i in range(1,11):\n",
    "        print(f\"{i} x {num} =\" ,i*num)"
   ]
  },
  {
   "cell_type": "code",
   "execution_count": 4,
   "id": "5af5208f",
   "metadata": {},
   "outputs": [
    {
     "name": "stdout",
     "output_type": "stream",
     "text": [
      "1 x 11 = 11\n",
      "2 x 11 = 22\n",
      "3 x 11 = 33\n",
      "4 x 11 = 44\n",
      "5 x 11 = 55\n",
      "6 x 11 = 66\n",
      "7 x 11 = 77\n",
      "8 x 11 = 88\n",
      "9 x 11 = 99\n",
      "10 x 11 = 110\n"
     ]
    }
   ],
   "source": [
    "multitable(11)"
   ]
  },
  {
   "cell_type": "markdown",
   "id": "9536c12b",
   "metadata": {},
   "source": [
    "# 3. Write a Python Program to Print the Fibonacci sequence?"
   ]
  },
  {
   "cell_type": "code",
   "execution_count": 5,
   "id": "6f111c79",
   "metadata": {},
   "outputs": [],
   "source": [
    "def fibo(num):\n",
    "    a=0\n",
    "    b=1\n",
    "    for i in range (num):\n",
    "        yield a \n",
    "        c=b+a\n",
    "        a=b\n",
    "        b=c\n",
    "        "
   ]
  },
  {
   "cell_type": "code",
   "execution_count": 6,
   "id": "a6e50248",
   "metadata": {},
   "outputs": [
    {
     "name": "stdout",
     "output_type": "stream",
     "text": [
      "0\n",
      "1\n",
      "1\n",
      "2\n",
      "3\n"
     ]
    }
   ],
   "source": [
    "for i in fibo(5):\n",
    "    print(i)"
   ]
  },
  {
   "cell_type": "markdown",
   "id": "7f17bfe3",
   "metadata": {},
   "source": [
    "# 4. Write a Python Program to Check Armstrong Number?"
   ]
  },
  {
   "cell_type": "code",
   "execution_count": 7,
   "id": "2792299d",
   "metadata": {},
   "outputs": [],
   "source": [
    "def arm(num):\n",
    "    s = 0\n",
    "    l=len(str(num))\n",
    "    no=num\n",
    "    while no>0:\n",
    "        n=no%10\n",
    "        s=s+(n**l)\n",
    "        no//=10\n",
    "    if num==s:\n",
    "        print(\"Armstrong\")\n",
    "    else:\n",
    "        print(\"Not an Armstrong\")"
   ]
  },
  {
   "cell_type": "code",
   "execution_count": 8,
   "id": "e9a4726c",
   "metadata": {},
   "outputs": [
    {
     "name": "stdout",
     "output_type": "stream",
     "text": [
      "Armstrong\n"
     ]
    }
   ],
   "source": [
    "arm(153)"
   ]
  },
  {
   "cell_type": "code",
   "execution_count": 9,
   "id": "15d7cf32",
   "metadata": {},
   "outputs": [
    {
     "name": "stdout",
     "output_type": "stream",
     "text": [
      "Not an Armstrong\n"
     ]
    }
   ],
   "source": [
    "arm(122)"
   ]
  },
  {
   "cell_type": "markdown",
   "id": "3e5f24ab",
   "metadata": {},
   "source": [
    "# 5. Write a Python Program to Find Armstrong Number in an Interval?"
   ]
  },
  {
   "cell_type": "code",
   "execution_count": 10,
   "id": "a481e9f8",
   "metadata": {},
   "outputs": [],
   "source": [
    "def arm_numbers(l,u):\n",
    "    \"\"\"Enter lower and upper range and the program will find Armstrong numbers in that interval\"\"\"\n",
    "    for i in range(l,u+1):\n",
    "        power=len(str(i))\n",
    "        s = 0\n",
    "        num=i\n",
    "        while num>0:\n",
    "            n=num%10\n",
    "            s=s+n**power\n",
    "            num//=10\n",
    "        if i==s:\n",
    "            print(i)   "
   ]
  },
  {
   "cell_type": "code",
   "execution_count": 11,
   "id": "930b25db",
   "metadata": {},
   "outputs": [
    {
     "name": "stdout",
     "output_type": "stream",
     "text": [
      "153\n",
      "370\n",
      "371\n",
      "407\n",
      "1634\n"
     ]
    }
   ],
   "source": [
    "arm_numbers(100,2000)"
   ]
  },
  {
   "cell_type": "markdown",
   "id": "c4b35ff0",
   "metadata": {},
   "source": [
    "# 6. Write a Python Program to Find the Sum of Natural Numbers?"
   ]
  },
  {
   "cell_type": "code",
   "execution_count": 12,
   "id": "d9c25c99",
   "metadata": {},
   "outputs": [],
   "source": [
    "def sum_of_naturalno(num):\n",
    "    \"\"\"Enter number upto which you want to find sum of natural numbers\"\"\"\n",
    "    if num==0:\n",
    "        print(\"Enter positive integer\")\n",
    "    else:\n",
    "        s=0\n",
    "        for i in range(1,num+1):\n",
    "            s=s+i\n",
    "        return s\n",
    "    "
   ]
  },
  {
   "cell_type": "code",
   "execution_count": 13,
   "id": "452aba70",
   "metadata": {},
   "outputs": [
    {
     "data": {
      "text/plain": [
       "210"
      ]
     },
     "execution_count": 13,
     "metadata": {},
     "output_type": "execute_result"
    }
   ],
   "source": [
    "sum_of_naturalno(20)"
   ]
  }
 ],
 "metadata": {
  "kernelspec": {
   "display_name": "Python 3 (ipykernel)",
   "language": "python",
   "name": "python3"
  },
  "language_info": {
   "codemirror_mode": {
    "name": "ipython",
    "version": 3
   },
   "file_extension": ".py",
   "mimetype": "text/x-python",
   "name": "python",
   "nbconvert_exporter": "python",
   "pygments_lexer": "ipython3",
   "version": "3.9.7"
  }
 },
 "nbformat": 4,
 "nbformat_minor": 5
}
