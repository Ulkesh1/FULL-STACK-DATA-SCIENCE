{
 "cells": [
  {
   "cell_type": "markdown",
   "id": "4b4235d6",
   "metadata": {},
   "source": [
    "# 1. In the below elements which of them are values or an expression? eg:- values can be\n",
    "integer or string and expressions will be mathematical operators.\n",
    "*\n",
    "&#39;hello&#39;\n",
    "-87.8\n",
    "-\n",
    "/\n",
    "+\n",
    "6"
   ]
  },
  {
   "cell_type": "markdown",
   "id": "6747db8b",
   "metadata": {},
   "source": [
    "# Solution:\n",
    " '*' = expression\n",
    " \n",
    " 'hello'= values(string)\n",
    " \n",
    " -87.8 = values(integer)\n",
    " \n",
    " '- '= expression\n",
    " \n",
    " /= expression\n",
    " \n",
    " '+' = expression\n",
    " \n",
    " 6 = values(integer)"
   ]
  },
  {
   "cell_type": "markdown",
   "id": "d017d8e9",
   "metadata": {},
   "source": [
    "# 2. What is the difference between string and variable?"
   ]
  },
  {
   "cell_type": "markdown",
   "id": "e89b3c20",
   "metadata": {},
   "source": [
    "# Solution:\n",
    "### string:-\n",
    "String is a type of value which can be a word or even a sentence. It is used to represent text type data.\n",
    "\n",
    "### variable:-\n",
    "A variable is basically the name of the location in the primary location of your computer. A variable to used to assign value or it stores a value.\n",
    "\n",
    "### Example:\n",
    "s = \"Hello World\"\n",
    "\n",
    "here s is a varibale which contains value Hello World\n",
    "\n",
    "     \"Hello World\" is a string"
   ]
  },
  {
   "cell_type": "markdown",
   "id": "8e3a4c04",
   "metadata": {},
   "source": [
    "# 3. Describe three different data types."
   ]
  },
  {
   "cell_type": "markdown",
   "id": "09f5a83b",
   "metadata": {},
   "source": [
    "# Solution:\n",
    "### 3 types of data types are:\n",
    "1. integer(int):We can use int data type to represent whole numbers (integral values)\n",
    "2. float(float):We can use float data type to represent floating point values (decimal values)\n",
    "3. string(str):We can use string data type to represent group of characters (words or sentence)\n",
    "\n",
    "Example:"
   ]
  },
  {
   "cell_type": "code",
   "execution_count": 1,
   "id": "cc67b553",
   "metadata": {},
   "outputs": [
    {
     "data": {
      "text/plain": [
       "int"
      ]
     },
     "execution_count": 1,
     "metadata": {},
     "output_type": "execute_result"
    }
   ],
   "source": [
    "type(5)"
   ]
  },
  {
   "cell_type": "code",
   "execution_count": 2,
   "id": "854f0700",
   "metadata": {},
   "outputs": [
    {
     "data": {
      "text/plain": [
       "str"
      ]
     },
     "execution_count": 2,
     "metadata": {},
     "output_type": "execute_result"
    }
   ],
   "source": [
    "type(\"word\")"
   ]
  },
  {
   "cell_type": "code",
   "execution_count": 3,
   "id": "487e2cdf",
   "metadata": {},
   "outputs": [
    {
     "data": {
      "text/plain": [
       "float"
      ]
     },
     "execution_count": 3,
     "metadata": {},
     "output_type": "execute_result"
    }
   ],
   "source": [
    "type(5.5)"
   ]
  },
  {
   "cell_type": "markdown",
   "id": "9b662d24",
   "metadata": {},
   "source": [
    "# 4. What is an expression made up of? What do all expressions do?"
   ]
  },
  {
   "cell_type": "markdown",
   "id": "8036f470",
   "metadata": {},
   "source": [
    "# Solution:\n",
    "An expression is a combination of operators and operands that is interpreted to produce some other value. In any programming language, an expression is evaluated as per the precedence of its operators. So that if there is more than one operator in an expression, their precedence decides which operation will be performed first.\n",
    "\n",
    "Example: +,*,%,-,**,>,<,==,&,!=,!,and,or,not"
   ]
  },
  {
   "cell_type": "code",
   "execution_count": 4,
   "id": "51cbcb1c",
   "metadata": {},
   "outputs": [
    {
     "data": {
      "text/plain": [
       "5"
      ]
     },
     "execution_count": 4,
     "metadata": {},
     "output_type": "execute_result"
    }
   ],
   "source": [
    "2+3"
   ]
  },
  {
   "cell_type": "code",
   "execution_count": 5,
   "id": "81b2406d",
   "metadata": {},
   "outputs": [
    {
     "data": {
      "text/plain": [
       "False"
      ]
     },
     "execution_count": 5,
     "metadata": {},
     "output_type": "execute_result"
    }
   ],
   "source": [
    "3>4"
   ]
  },
  {
   "cell_type": "code",
   "execution_count": 6,
   "id": "9bbb7415",
   "metadata": {},
   "outputs": [
    {
     "data": {
      "text/plain": [
       "0"
      ]
     },
     "execution_count": 6,
     "metadata": {},
     "output_type": "execute_result"
    }
   ],
   "source": [
    "3 & 4"
   ]
  },
  {
   "cell_type": "markdown",
   "id": "87deba4c",
   "metadata": {},
   "source": [
    "# 5. This assignment statements, like spam = 10. What is the difference between an expression and a statement?"
   ]
  },
  {
   "cell_type": "markdown",
   "id": "d9d6c155",
   "metadata": {},
   "source": [
    "# Solution:\n",
    "An expression is a combination of values, variables, and operators.When we type an expression at the prompt, the interpreter evaluates it, which means that it finds the value of the expression.\n",
    "\n",
    "Example: 2+3 is expression\n",
    "\n",
    "A statement is a unit of code that has an effect, like creating a variable or displaying a value.When we type a statement, the interpreter executes it, which means that it does whatever the statement says.\n",
    "\n",
    "Example: variable declaration and assignment are statements because they do not return a value"
   ]
  },
  {
   "cell_type": "markdown",
   "id": "4eb4d30e",
   "metadata": {},
   "source": [
    "# 6. After running the following code, what does the variable bacon contain?\n",
    "### bacon = 22\n",
    "### bacon + 1\n",
    "## Solution:"
   ]
  },
  {
   "cell_type": "code",
   "execution_count": 7,
   "id": "9fcabf2b",
   "metadata": {},
   "outputs": [
    {
     "data": {
      "text/plain": [
       "23"
      ]
     },
     "execution_count": 7,
     "metadata": {},
     "output_type": "execute_result"
    }
   ],
   "source": [
    "bacon= 22\n",
    "bacon+1"
   ]
  },
  {
   "cell_type": "markdown",
   "id": "90119086",
   "metadata": {},
   "source": [
    "# 7. What should the values of the following two terms be?\n",
    "#### 'spam' +  'spamspam'\n",
    "#### 'spam'*3\n",
    "## Solution:"
   ]
  },
  {
   "cell_type": "code",
   "execution_count": 8,
   "id": "ea6f3db0",
   "metadata": {},
   "outputs": [
    {
     "name": "stdout",
     "output_type": "stream",
     "text": [
      "Value of 'spam + spamspam' is spamspamspam\n"
     ]
    }
   ],
   "source": [
    "a='spam'+ 'spamspam'\n",
    "print(f\"Value of 'spam + spamspam' is {a}\")"
   ]
  },
  {
   "cell_type": "code",
   "execution_count": 9,
   "id": "4b16a7b3",
   "metadata": {},
   "outputs": [
    {
     "name": "stdout",
     "output_type": "stream",
     "text": [
      "Value of 'spam*3' is spamspamspam\n"
     ]
    }
   ],
   "source": [
    "a='spam'*3\n",
    "print(f\"Value of 'spam*3' is {a}\")"
   ]
  },
  {
   "cell_type": "markdown",
   "id": "0bb81947",
   "metadata": {},
   "source": [
    "# 8. Why is eggs a valid variable name while 100 is invalid?\n",
    "## Solution:"
   ]
  },
  {
   "cell_type": "markdown",
   "id": "c8be6cda",
   "metadata": {},
   "source": [
    "As per python,Variable names cannot begin with a number. The python rules for naming a variable are :-\n",
    "\n",
    "Variable name must start with a letter or the underscore character.\n",
    "\n",
    "Variable name cannot start with a number.\n",
    "\n",
    "Variable name can only contain alpha-numeric characters and underscores (A-z, 0-9, & _ ).\n",
    "\n",
    "Variable names are case-sensitive. \n",
    "\n",
    "The reserved words(keywords) cannot be used naming the variable.\n"
   ]
  },
  {
   "cell_type": "code",
   "execution_count": 10,
   "id": "c242254d",
   "metadata": {},
   "outputs": [
    {
     "name": "stdout",
     "output_type": "stream",
     "text": [
      "50\n"
     ]
    }
   ],
   "source": [
    "eggs= 50\n",
    "print(eggs)"
   ]
  },
  {
   "cell_type": "code",
   "execution_count": 11,
   "id": "9dd11055",
   "metadata": {},
   "outputs": [
    {
     "ename": "SyntaxError",
     "evalue": "cannot assign to literal (Temp/ipykernel_9108/705975812.py, line 1)",
     "output_type": "error",
     "traceback": [
      "\u001b[1;36m  File \u001b[1;32m\"C:\\Users\\Rajesh\\AppData\\Local\\Temp/ipykernel_9108/705975812.py\"\u001b[1;36m, line \u001b[1;32m1\u001b[0m\n\u001b[1;33m    100 = 50\u001b[0m\n\u001b[1;37m    ^\u001b[0m\n\u001b[1;31mSyntaxError\u001b[0m\u001b[1;31m:\u001b[0m cannot assign to literal\n"
     ]
    }
   ],
   "source": [
    "100 = 50\n",
    "print(100)"
   ]
  },
  {
   "cell_type": "markdown",
   "id": "b95c0b75",
   "metadata": {},
   "source": [
    "# 9. What three functions can be used to get the integer, floating-point number, or string version of a value?\n",
    "# Solution:\n"
   ]
  },
  {
   "cell_type": "markdown",
   "id": "ce0db643",
   "metadata": {},
   "source": [
    "int(), float(), str() fuctions can to uesed to get the integer, floationg-point number, or string version of a value respectively."
   ]
  },
  {
   "cell_type": "markdown",
   "id": "45b33427",
   "metadata": {},
   "source": [
    "# 10. Why does this expression cause an error? How can you fix it?\n",
    "### 'I have eaten' + 99 + 'burritos'.\n",
    "## Solution:\n"
   ]
  },
  {
   "cell_type": "markdown",
   "id": "3c8214a3",
   "metadata": {},
   "source": [
    "This expression causes an error because 99 is integer and we cannot perform concatenation of strings with integer value.\n",
    "\n",
    "In order to fix this error we will have to typecast 99 into string type value and perform concatenation of strings."
   ]
  },
  {
   "cell_type": "code",
   "execution_count": 12,
   "id": "56c644fe",
   "metadata": {},
   "outputs": [
    {
     "ename": "TypeError",
     "evalue": "can only concatenate str (not \"int\") to str",
     "output_type": "error",
     "traceback": [
      "\u001b[1;31m---------------------------------------------------------------------------\u001b[0m",
      "\u001b[1;31mTypeError\u001b[0m                                 Traceback (most recent call last)",
      "\u001b[1;32m~\\AppData\\Local\\Temp/ipykernel_9108/1774935878.py\u001b[0m in \u001b[0;36m<module>\u001b[1;34m\u001b[0m\n\u001b[1;32m----> 1\u001b[1;33m \u001b[1;34m'I have eaten '\u001b[0m \u001b[1;33m+\u001b[0m \u001b[1;36m99\u001b[0m \u001b[1;33m+\u001b[0m \u001b[1;34m' burritos.'\u001b[0m\u001b[1;33m\u001b[0m\u001b[1;33m\u001b[0m\u001b[0m\n\u001b[0m",
      "\u001b[1;31mTypeError\u001b[0m: can only concatenate str (not \"int\") to str"
     ]
    }
   ],
   "source": [
    "'I have eaten ' + 99 + ' burritos.'"
   ]
  },
  {
   "cell_type": "code",
   "execution_count": 13,
   "id": "989be301",
   "metadata": {},
   "outputs": [
    {
     "data": {
      "text/plain": [
       "'I have eaten 99 burritos.'"
      ]
     },
     "execution_count": 13,
     "metadata": {},
     "output_type": "execute_result"
    }
   ],
   "source": [
    "'I have eaten '+ str(99) + ' burritos.'"
   ]
  }
 ],
 "metadata": {
  "kernelspec": {
   "display_name": "Python 3 (ipykernel)",
   "language": "python",
   "name": "python3"
  },
  "language_info": {
   "codemirror_mode": {
    "name": "ipython",
    "version": 3
   },
   "file_extension": ".py",
   "mimetype": "text/x-python",
   "name": "python",
   "nbconvert_exporter": "python",
   "pygments_lexer": "ipython3",
   "version": "3.9.7"
  }
 },
 "nbformat": 4,
 "nbformat_minor": 5
}
