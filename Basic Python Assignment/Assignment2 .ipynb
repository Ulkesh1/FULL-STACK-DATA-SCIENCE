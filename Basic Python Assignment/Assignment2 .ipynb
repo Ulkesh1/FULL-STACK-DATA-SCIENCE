{
 "cells": [
  {
   "cell_type": "markdown",
   "id": "ee2076ba",
   "metadata": {},
   "source": [
    "# 1.What are the two values of the Boolean data type? How do you write them?\n",
    "## Solution:\n"
   ]
  },
  {
   "cell_type": "markdown",
   "id": "7dec1597",
   "metadata": {},
   "source": [
    "True and False are two values of the Boolean data type."
   ]
  },
  {
   "cell_type": "code",
   "execution_count": 1,
   "id": "30c96e12",
   "metadata": {},
   "outputs": [],
   "source": [
    "a = True\n",
    "b = False"
   ]
  },
  {
   "cell_type": "markdown",
   "id": "58f49e05",
   "metadata": {},
   "source": [
    "# 2. What are the three different types of Boolean operators?\n",
    "## Solution:"
   ]
  },
  {
   "cell_type": "markdown",
   "id": "74885d68",
   "metadata": {},
   "source": [
    "Three different types of boolean operators are:`and`,`or`,`not`."
   ]
  },
  {
   "cell_type": "code",
   "execution_count": 2,
   "id": "a4a87b86",
   "metadata": {},
   "outputs": [
    {
     "name": "stdout",
     "output_type": "stream",
     "text": [
      "False\n"
     ]
    }
   ],
   "source": [
    "a = 10\n",
    "b = 20\n",
    "print(a>50 and b>50)"
   ]
  },
  {
   "cell_type": "code",
   "execution_count": 3,
   "id": "0ff19c83",
   "metadata": {},
   "outputs": [
    {
     "name": "stdout",
     "output_type": "stream",
     "text": [
      "False\n"
     ]
    }
   ],
   "source": [
    "a = 10\n",
    "b = 20\n",
    "print(a>50 or b>50)"
   ]
  },
  {
   "cell_type": "code",
   "execution_count": 4,
   "id": "31147157",
   "metadata": {},
   "outputs": [
    {
     "name": "stdout",
     "output_type": "stream",
     "text": [
      "True\n"
     ]
    }
   ],
   "source": [
    "a = 10\n",
    "b = 20\n",
    "print(not(a>50) and not(b>50))"
   ]
  },
  {
   "cell_type": "markdown",
   "id": "db7bbd64",
   "metadata": {},
   "source": [
    "# 3. Make a list of each Boolean operator&#39;s truth tables (i.e. every possible combination of Boolean values for the operator and what it evaluate ).\n",
    "## Solution:"
   ]
  },
  {
   "cell_type": "markdown",
   "id": "a42f7ea3",
   "metadata": {},
   "source": [
    "The Truth tables for the boolean tables are as follows:\n",
    "\n",
    "Truth Table for `and` operator:\n",
    "\n",
    " True and True is True\n",
    " \n",
    " True and False is False\n",
    " \n",
    " False and True is False\n",
    " \n",
    " False and False is False\n",
    "\n",
    "Truth Table for `or` operator:\n",
    "\n",
    " True0 and True is True\n",
    " \n",
    " True and False is True\n",
    " \n",
    " False and True is True\n",
    " \n",
    " False and False is False\n",
    "\n",
    "Truth Table for `not` operator:\n",
    "\n",
    " True not is False False not is True"
   ]
  },
  {
   "cell_type": "markdown",
   "id": "d274ec84",
   "metadata": {},
   "source": [
    "# 4. What are the values of the following expressions?\n",
    "### (5 > 4) and (3 == 5)\n",
    "### not (5 > 4)\n",
    "### (5 > 4) or (3 == 5)\n",
    "### not ((5 > 4) or (3 == 5))\n",
    "### (True and True) and (True == False)\n",
    "### (not False) or (not True)\n",
    "## Solution:"
   ]
  },
  {
   "cell_type": "code",
   "execution_count": 5,
   "id": "d57ff1da",
   "metadata": {},
   "outputs": [
    {
     "data": {
      "text/plain": [
       "False"
      ]
     },
     "execution_count": 5,
     "metadata": {},
     "output_type": "execute_result"
    }
   ],
   "source": [
    "(5>4) and (3==5)"
   ]
  },
  {
   "cell_type": "code",
   "execution_count": 6,
   "id": "c48b8232",
   "metadata": {},
   "outputs": [
    {
     "data": {
      "text/plain": [
       "False"
      ]
     },
     "execution_count": 6,
     "metadata": {},
     "output_type": "execute_result"
    }
   ],
   "source": [
    "not(5>4)"
   ]
  },
  {
   "cell_type": "code",
   "execution_count": 7,
   "id": "45858103",
   "metadata": {},
   "outputs": [
    {
     "data": {
      "text/plain": [
       "False"
      ]
     },
     "execution_count": 7,
     "metadata": {},
     "output_type": "execute_result"
    }
   ],
   "source": [
    "not((5>4)or (3==5))"
   ]
  },
  {
   "cell_type": "code",
   "execution_count": 8,
   "id": "ae8e9ad3",
   "metadata": {},
   "outputs": [
    {
     "data": {
      "text/plain": [
       "False"
      ]
     },
     "execution_count": 8,
     "metadata": {},
     "output_type": "execute_result"
    }
   ],
   "source": [
    "(True and True) and (True== False)"
   ]
  },
  {
   "cell_type": "code",
   "execution_count": 9,
   "id": "93fbf6f3",
   "metadata": {},
   "outputs": [
    {
     "data": {
      "text/plain": [
       "True"
      ]
     },
     "execution_count": 9,
     "metadata": {},
     "output_type": "execute_result"
    }
   ],
   "source": [
    "(not False) or (not True)"
   ]
  },
  {
   "cell_type": "markdown",
   "id": "2d1e317d",
   "metadata": {},
   "source": [
    "# 5. What are the six comparison operators?\n",
    "## Solution:"
   ]
  },
  {
   "cell_type": "markdown",
   "id": "b0acf433",
   "metadata": {},
   "source": [
    " The Six comparision operators available in python are:\n",
    "`==` , `!=` , `<` ,` >` , `<=` , `=>`"
   ]
  },
  {
   "cell_type": "markdown",
   "id": "c6c13de2",
   "metadata": {},
   "source": [
    "# 6. How do you tell the difference between the equal to and assignment operators?Describe a condition and when you would use one.\n",
    "## Solution:"
   ]
  },
  {
   "cell_type": "markdown",
   "id": "191a7133",
   "metadata": {},
   "source": [
    " `==` is the equal to operator that compares two values and evaluates to a `Boolean`, while `=` is that assignment operator that stores a value in a variable."
   ]
  },
  {
   "cell_type": "code",
   "execution_count": 10,
   "id": "d93d0fef",
   "metadata": {},
   "outputs": [
    {
     "name": "stdout",
     "output_type": "stream",
     "text": [
      "Value of a was compared to 10\n"
     ]
    }
   ],
   "source": [
    "# Example:\n",
    "a=10 # Assigning value of 10 to variable a\n",
    "if a==10: # == operator will compare LHS with RHS\n",
    "    print(\"Value of a was compared to 10\")"
   ]
  },
  {
   "cell_type": "markdown",
   "id": "4489aad9",
   "metadata": {},
   "source": [
    "# 7. Identify the three blocks in this code:\n",
    "#### spam = 0\n",
    "#### if spam == 10:\n",
    "#### print('eggs')\n",
    "#### if spam > 5:\n",
    "#### print('bacon')\n",
    "#### else:\n",
    "#### print('ham')\n",
    "#### print('spam')\n",
    "#### print('spam')\n",
    "## Solution:"
   ]
  },
  {
   "cell_type": "markdown",
   "id": "a15a81d0",
   "metadata": {},
   "source": [
    "In Python, code block refers to a collection of code that is in the same block or indent. This is most commonly found in classes, functions, and loops."
   ]
  },
  {
   "cell_type": "code",
   "execution_count": 11,
   "id": "4a609db4",
   "metadata": {},
   "outputs": [
    {
     "name": "stdout",
     "output_type": "stream",
     "text": [
      "ham\n",
      "spam\n",
      "spam\n"
     ]
    }
   ],
   "source": [
    "spam = 0\n",
    "if spam == 10:\n",
    "    print('eggs') # Bloc k1\n",
    "if spam>5:\n",
    "    print('bacon') # Block 2\n",
    "else:\n",
    "    print('ham') # Block 3\n",
    "print('spam')\n",
    "print('spam')"
   ]
  },
  {
   "cell_type": "markdown",
   "id": "fcb3aba7",
   "metadata": {},
   "source": [
    "# 8. Write code that prints Hello if 1 is stored in spam, prints Howdy if 2 is stored in spam, and prints Greetings! if anything else is stored in spam.\n",
    "## Solution:"
   ]
  },
  {
   "cell_type": "code",
   "execution_count": 12,
   "id": "e67617cd",
   "metadata": {},
   "outputs": [],
   "source": [
    "def spam(s):\n",
    "    \n",
    "    if s == 1:\n",
    "        return'Hello'\n",
    "    if s == 2:\n",
    "        return'Howdy'\n",
    "    else :\n",
    "        return 'Greetings'"
   ]
  },
  {
   "cell_type": "code",
   "execution_count": 13,
   "id": "798117a8",
   "metadata": {},
   "outputs": [
    {
     "name": "stdout",
     "output_type": "stream",
     "text": [
      "Hello\n",
      "Howdy\n",
      "Greetings\n"
     ]
    }
   ],
   "source": [
    "print(spam(1))\n",
    "print(spam(2))\n",
    "print(spam(20))"
   ]
  },
  {
   "cell_type": "markdown",
   "id": "526be754",
   "metadata": {},
   "source": [
    "# 9.If your programme is stuck in an endless loop, what keys you’ll press?\n",
    "## Solution:"
   ]
  },
  {
   "cell_type": "markdown",
   "id": "5b6eec1b",
   "metadata": {},
   "source": [
    "If a programme is stuck in an endless loop we can go to Kernel and click `Interrupt` or use shortcut key `double` `I` `I` to interrupt."
   ]
  },
  {
   "cell_type": "markdown",
   "id": "69d23258",
   "metadata": {},
   "source": [
    "# 10. How can you tell the difference between break and continue?\n",
    "## Solution:"
   ]
  },
  {
   "cell_type": "markdown",
   "id": "e97b65e4",
   "metadata": {},
   "source": [
    "`break` will terminate the loop and come out of it while `continue`will move the execution to the start of the loop."
   ]
  },
  {
   "cell_type": "code",
   "execution_count": 14,
   "id": "e393fce6",
   "metadata": {},
   "outputs": [
    {
     "name": "stdout",
     "output_type": "stream",
     "text": [
      "2\n",
      "3\n",
      "4\n",
      "5\n"
     ]
    }
   ],
   "source": [
    "# Example of break\n",
    "i=2\n",
    "while(i>1):\n",
    "    print(i)\n",
    "    if i==5:\n",
    "        break\n",
    "    i+=1"
   ]
  },
  {
   "cell_type": "code",
   "execution_count": 15,
   "id": "bab64ec3",
   "metadata": {},
   "outputs": [
    {
     "name": "stdout",
     "output_type": "stream",
     "text": [
      "0\n",
      "1\n",
      "2\n",
      "3\n",
      "4\n",
      "6\n",
      "7\n",
      "8\n",
      "9\n"
     ]
    }
   ],
   "source": [
    "# Example of continue\n",
    "i=0\n",
    "while(i<10):\n",
    "    if i==5:\n",
    "        i+=1\n",
    "        continue\n",
    "    print(i)\n",
    "    i+=1\n",
    "    "
   ]
  },
  {
   "cell_type": "markdown",
   "id": "7f59ff26",
   "metadata": {},
   "source": [
    "# 11. In a for loop, what is the difference between range(10), range(0, 10), and range(0, 10, 1)?\n",
    "## Solution:\n"
   ]
  },
  {
   "cell_type": "markdown",
   "id": "3f16201b",
   "metadata": {},
   "source": [
    "1. The **range(10)** call range from 0 to 9 (but not include 10)\n",
    "2. The **range (0,10)** explicitly tells the loop to start at 0\n",
    "3. The **range(0,10,1)** explicitly tells the loop to increase the variable by 1 on each iteration"
   ]
  },
  {
   "cell_type": "markdown",
   "id": "6982819c",
   "metadata": {},
   "source": [
    "# 12. Write a short program that prints the numbers 1 to 10 using a for loop. Then write an equivalent program that prints the numbers 1 to 10 using a while loop.\n",
    "## Solution:"
   ]
  },
  {
   "cell_type": "code",
   "execution_count": 16,
   "id": "16a57c1c",
   "metadata": {},
   "outputs": [
    {
     "name": "stdout",
     "output_type": "stream",
     "text": [
      "1\n",
      "2\n",
      "3\n",
      "4\n",
      "5\n",
      "6\n",
      "7\n",
      "8\n",
      "9\n",
      "10\n"
     ]
    }
   ],
   "source": [
    "# For loop\n",
    "for i in range(10):\n",
    "    print(i+1)"
   ]
  },
  {
   "cell_type": "code",
   "execution_count": 17,
   "id": "58b52c39",
   "metadata": {},
   "outputs": [
    {
     "name": "stdout",
     "output_type": "stream",
     "text": [
      "1\n",
      "2\n",
      "3\n",
      "4\n",
      "5\n",
      "6\n",
      "7\n",
      "8\n",
      "9\n",
      "10\n"
     ]
    }
   ],
   "source": [
    "i=1\n",
    "while(i<11):\n",
    "    print(i)\n",
    "    i+=1"
   ]
  },
  {
   "cell_type": "markdown",
   "id": "13dbf0f1",
   "metadata": {},
   "source": [
    "# 13. If you had a function named bacon() inside a module named spam, how would you call it after importing spam?\n",
    "## Solution:\n"
   ]
  },
  {
   "cell_type": "markdown",
   "id": "997e6aa4",
   "metadata": {},
   "source": [
    "import spam\n",
    "\n",
    "`spam.bacon()`"
   ]
  }
 ],
 "metadata": {
  "kernelspec": {
   "display_name": "Python 3 (ipykernel)",
   "language": "python",
   "name": "python3"
  },
  "language_info": {
   "codemirror_mode": {
    "name": "ipython",
    "version": 3
   },
   "file_extension": ".py",
   "mimetype": "text/x-python",
   "name": "python",
   "nbconvert_exporter": "python",
   "pygments_lexer": "ipython3",
   "version": "3.9.7"
  }
 },
 "nbformat": 4,
 "nbformat_minor": 5
}
